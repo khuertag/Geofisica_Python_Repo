{
 "cells": [
  {
   "cell_type": "markdown",
   "metadata": {},
   "source": [
    "# Tarea 3\n",
    "\n",
    "Ejercicio Práctico\n",
    "\n",
    "1. Un algoritmo en el que el usuario deba poner coordenadas de latitud y longitud. Posteriormente, un print que muestre algo del estilo \"Las coordenadas son 62.22 N, 12.33 W\", la latitud y la longitud deben tener dos cifras significativas.\n",
    "2. Un algoritmo en el que el usuario escriba su nombre y, posteriormente, le muestre un texto del estilo \"Hola, Juan, bienvenido a Python\".\n",
    "3. Un algoritmo en el que el usuario ingrese una temperatura en grados Celsius y el programa convierta esta temperatura a grados Fahrenheit. Después, debe imprimir un mensaje que diga \"XX°C es igual a YY°F\".\n",
    "4. Ejercicio reto (opcional): Este ejercicio es de un nivel un poco más avanzado que los demás y va a requerir algo de investigación independiente respecto a lo visto en clase, consiste en crear un algoritmo en el que el usuario introduzca un número y se le devuelva un print que diga si es o no es primo."
   ]
  },
  {
   "cell_type": "markdown",
   "metadata": {},
   "source": [
    "## Solución 1"
   ]
  },
  {
   "cell_type": "code",
   "execution_count": 14,
   "metadata": {},
   "outputs": [
    {
     "name": "stdout",
     "output_type": "stream",
     "text": [
      "Las coordenadas son 62.22 N, (-12, 2) W\n"
     ]
    }
   ],
   "source": [
    "coordenadas = input(\"Ingrese Corrdenadas [Latitud, Longitud]:\\n\")\n",
    "lat, lon = float(coordenadas.split(\",\")[0]), float(coordenadas.split(\",\")[1])\n",
    "if lat<0:\n",
    "    dir_ns = \"S\"\n",
    "else:\n",
    "    dir_ns = \"N\"\n",
    "\n",
    "if lon<0:\n",
    "    dir_ew = \"W\"\n",
    "else:\n",
    "    dir_ew = \"E\"\n",
    "    \n",
    "print(f\"Las coordenadas son {round(lat,2)} {dir_ns}, {round(lon),2} {dir_ew}\")\n"
   ]
  },
  {
   "cell_type": "markdown",
   "metadata": {},
   "source": [
    "## Solucion 2"
   ]
  },
  {
   "cell_type": "code",
   "execution_count": 20,
   "metadata": {},
   "outputs": [
    {
     "name": "stdout",
     "output_type": "stream",
     "text": [
      "Hola, kevin, bienvenido a Python\n"
     ]
    }
   ],
   "source": [
    "nombre = input(\"Ingrese el nombre de usuario: \\n\")\n",
    "\n",
    "print(f\"Hola, {nombre}, bienvenido a Python\")"
   ]
  },
  {
   "cell_type": "markdown",
   "metadata": {},
   "source": [
    "## Solución 3\n"
   ]
  },
  {
   "cell_type": "code",
   "execution_count": 21,
   "metadata": {},
   "outputs": [
    {
     "name": "stdout",
     "output_type": "stream",
     "text": [
      "36.0°C es igual a 96.8°F\n"
     ]
    }
   ],
   "source": [
    "def convertir_celsius_a_fahrenheit(celsius):\n",
    "    fahrenheit = (celsius * 9/5) + 32\n",
    "    return fahrenheit\n",
    "\n",
    "# Solicitar al usuario que ingrese la temperatura en grados Celsius\n",
    "temperatura_celsius = float(input(\"Ingrese la temperatura en grados Celsius: \"))\n",
    "\n",
    "# Convertir la temperatura a Fahrenheit\n",
    "temperatura_fahrenheit = convertir_celsius_a_fahrenheit(temperatura_celsius)\n",
    "\n",
    "# Imprimir el resultado\n",
    "print(f\"{temperatura_celsius}°C es igual a {temperatura_fahrenheit}°F\")\n"
   ]
  },
  {
   "cell_type": "markdown",
   "metadata": {},
   "source": [
    "## Solución 4\n"
   ]
  },
  {
   "cell_type": "code",
   "execution_count": 22,
   "metadata": {},
   "outputs": [
    {
     "name": "stdout",
     "output_type": "stream",
     "text": [
      "El número 2357 es primo.\n"
     ]
    }
   ],
   "source": [
    "def es_primo(numero):\n",
    "    if numero <= 1:\n",
    "        return False\n",
    "    for i in range(2, int(numero**0.5) + 1):\n",
    "        if numero % i == 0:\n",
    "            return False\n",
    "    return True\n",
    "\n",
    "# Solicitar al usuario que introduzca un número\n",
    "numero_usuario = int(input(\"Introduce un número: \"))\n",
    "\n",
    "# Determinar si el número es primo\n",
    "if es_primo(numero_usuario):\n",
    "    print(f\"El número {numero_usuario} es primo.\")\n",
    "else:\n",
    "    print(f\"El número {numero_usuario} no es primo.\")"
   ]
  }
 ],
 "metadata": {
  "kernelspec": {
   "display_name": "sd_env",
   "language": "python",
   "name": "python3"
  },
  "language_info": {
   "codemirror_mode": {
    "name": "ipython",
    "version": 3
   },
   "file_extension": ".py",
   "mimetype": "text/x-python",
   "name": "python",
   "nbconvert_exporter": "python",
   "pygments_lexer": "ipython3",
   "version": "3.7.13"
  }
 },
 "nbformat": 4,
 "nbformat_minor": 2
}
